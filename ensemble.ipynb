{
 "cells": [
  {
   "cell_type": "code",
   "execution_count": 1,
   "metadata": {
    "colab": {
     "base_uri": "https://localhost:8080/",
     "height": 54
    },
    "colab_type": "code",
    "id": "YTQJuI5RWCT6",
    "outputId": "1f987262-1f8e-4cb6-d4b1-640ead6b24c7"
   },
   "outputs": [
    {
     "name": "stdout",
     "output_type": "stream",
     "text": [
      "Drive already mounted at /content/drive; to attempt to forcibly remount, call drive.mount(\"/content/drive\", force_remount=True).\n"
     ]
    }
   ],
   "source": [
    "import pandas as pd\n",
    "import numpy as np\n",
    "\n",
    "from google.colab import drive\n",
    "drive.mount('/content/drive')"
   ]
  },
  {
   "cell_type": "code",
   "execution_count": 2,
   "metadata": {
    "colab": {
     "base_uri": "https://localhost:8080/",
     "height": 34
    },
    "colab_type": "code",
    "id": "-D6-dKt9y9Jy",
    "outputId": "e1441221-8f84-4126-951f-199f361ae063"
   },
   "outputs": [
    {
     "name": "stdout",
     "output_type": "stream",
     "text": [
      "ln: failed to create symbolic link '/content/models/models': Operation not supported\n"
     ]
    }
   ],
   "source": [
    "# use shorter filepaths for the data and models\n",
    "#MEDIA_PATH = '/content/drive/My Drive/virufy/confidential data/media all - old'\n",
    "MODELS_PATH = '/content/drive/My Drive/virufy/models/'\n",
    "#media_path = '/content/media'\n",
    "models_path = '/content/models'\n",
    "\n",
    "!rm -rf \"$media_folder\" \"$models_path\"\n",
    "#!ln -sf \"$MEDIA_PATH\" \"$media_path\"\n",
    "!ln -sf \"$MODELS_PATH\" \"$models_path\""
   ]
  },
  {
   "cell_type": "code",
   "execution_count": 1,
   "metadata": {
    "colab": {},
    "colab_type": "code",
    "id": "eUwQXW7vWCUK"
   },
   "outputs": [],
   "source": [
    "! wget --quiet https://raw.githubusercontent.com/virufy/covid/master/text/text_data.csv\n",
    "! wget --quiet https://raw.githubusercontent.com/virufy/covid/master/text/text.py"
   ]
  },
  {
   "cell_type": "code",
   "execution_count": 3,
   "metadata": {},
   "outputs": [
    {
     "data": {
      "text/html": [
       "<div>\n",
       "<style scoped>\n",
       "    .dataframe tbody tr th:only-of-type {\n",
       "        vertical-align: middle;\n",
       "    }\n",
       "\n",
       "    .dataframe tbody tr th {\n",
       "        vertical-align: top;\n",
       "    }\n",
       "\n",
       "    .dataframe thead th {\n",
       "        text-align: right;\n",
       "    }\n",
       "</style>\n",
       "<table border=\"1\" class=\"dataframe\">\n",
       "  <thead>\n",
       "    <tr style=\"text-align: right;\">\n",
       "      <th></th>\n",
       "      <th>seq_id</th>\n",
       "      <th>patient_id</th>\n",
       "      <th>date</th>\n",
       "      <th>corona_test</th>\n",
       "      <th>age</th>\n",
       "      <th>gender</th>\n",
       "      <th>medical_history</th>\n",
       "      <th>smoker</th>\n",
       "      <th>patient_reported_symptoms</th>\n",
       "      <th>cough_filename</th>\n",
       "      <th>breathing_filename</th>\n",
       "      <th>finger_filename</th>\n",
       "      <th>patient_smartphone</th>\n",
       "    </tr>\n",
       "  </thead>\n",
       "  <tbody>\n",
       "    <tr>\n",
       "      <th>0</th>\n",
       "      <td>NaN</td>\n",
       "      <td>NaN</td>\n",
       "      <td>NaN</td>\n",
       "      <td>positive</td>\n",
       "      <td>53</td>\n",
       "      <td>male</td>\n",
       "      <td>None,</td>\n",
       "      <td>no</td>\n",
       "      <td>Fever, chills, or sweating,Shortness of breath...</td>\n",
       "      <td>NaN</td>\n",
       "      <td>NaN</td>\n",
       "      <td>NaN</td>\n",
       "      <td>NaN</td>\n",
       "    </tr>\n",
       "  </tbody>\n",
       "</table>\n",
       "</div>"
      ],
      "text/plain": [
       "   seq_id  patient_id  date corona_test  age gender medical_history smoker  \\\n",
       "0     NaN         NaN   NaN    positive   53   male           None,     no   \n",
       "\n",
       "                           patient_reported_symptoms  cough_filename  \\\n",
       "0  Fever, chills, or sweating,Shortness of breath...             NaN   \n",
       "\n",
       "   breathing_filename  finger_filename  patient_smartphone  \n",
       "0                 NaN              NaN                 NaN  "
      ]
     },
     "execution_count": 3,
     "metadata": {},
     "output_type": "execute_result"
    }
   ],
   "source": [
    "import numpy as np\n",
    "import pandas as pd\n",
    "data = {\"seq_id\": \"NaN\",\n",
    "        \"patient_id\": \"NaN\",\n",
    "        \"date\":\"NaN\",\n",
    "        \"corona_test\":\"positive\",\n",
    "        \"age\":53 ,\n",
    "        \"gender\": \"male\",\n",
    "        \"medical_history\":\"None,\",\n",
    "        \"smoker\": \"no\",\n",
    "        \"patient_reported_symptoms\":\"Fever, chills, or sweating,Shortness of breath,New or worsening cough,Sore throat,Loss of taste,Loss of smell,\" ,\n",
    "        \"cough_filename\": \"NaN\",\n",
    "        \"breathing_filename\":\"NaN\",\n",
    "        \"finger_filename\":\"NaN\",\n",
    "        \"patient_smartphone\":\"NaN\"}\n",
    "\n",
    "# df = pd.DataFrame.from_records(data,index=[0])\n",
    "df1 = pd.DataFrame(data,index=[0])\n",
    "df1 = df1.replace('NaN',np.NaN)\n",
    "\n",
    "# data, columns = ['seq_id', 'patient_id','date','corona_test','age','gender','medical_history','smoker','patient_reported_symptoms','cough_filename','breathing_filename','finger_filename','patient_smartphone']\n",
    "\n",
    "df1"
   ]
  },
  {
   "cell_type": "code",
   "execution_count": 12,
   "metadata": {},
   "outputs": [
    {
     "name": "stdout",
     "output_type": "stream",
     "text": [
      "The probability of patient being positive is: 1.93 %\n"
     ]
    }
   ],
   "source": [
    "import sys\n",
    "sys.path.append(\"/home/naufil/Desktop/corona/covid/text\")\n",
    "import text\n",
    "\n",
    "text_pred = text.predict(df1, \"textual_model83.sav\")\n",
    "print(\"The probability of patient being positive is: %.2f\" %text_pred, \"%\")"
   ]
  },
  {
   "cell_type": "code",
   "execution_count": null,
   "metadata": {},
   "outputs": [],
   "source": []
  }
 ],
 "metadata": {
  "colab": {
   "collapsed_sections": [],
   "name": "ensemble.ipynb",
   "provenance": []
  },
  "kernelspec": {
   "display_name": "Python 3",
   "language": "python",
   "name": "python3"
  },
  "language_info": {
   "codemirror_mode": {
    "name": "ipython",
    "version": 3
   },
   "file_extension": ".py",
   "mimetype": "text/x-python",
   "name": "python",
   "nbconvert_exporter": "python",
   "pygments_lexer": "ipython3",
   "version": "3.7.6"
  }
 },
 "nbformat": 4,
 "nbformat_minor": 1
}
