{
  "nbformat": 4,
  "nbformat_minor": 0,
  "metadata": {
    "colab": {
      "name": "ensemble.ipynb",
      "provenance": [],
      "collapsed_sections": []
    },
    "kernelspec": {
      "display_name": "Python 3",
      "language": "python",
      "name": "python3"
    },
    "language_info": {
      "codemirror_mode": {
        "name": "ipython",
        "version": 3
      },
      "file_extension": ".py",
      "mimetype": "text/x-python",
      "name": "python",
      "nbconvert_exporter": "python",
      "pygments_lexer": "ipython3",
      "version": "3.7.6"
    }
  },
  "cells": [
    {
      "cell_type": "code",
      "metadata": {
        "colab_type": "code",
        "id": "YTQJuI5RWCT6",
        "outputId": "1f987262-1f8e-4cb6-d4b1-640ead6b24c7",
        "colab": {
          "base_uri": "https://localhost:8080/",
          "height": 54
        }
      },
      "source": [
        "import pandas as pd\n",
        "import numpy as np\n",
        "\n",
        "from google.colab import drive\n",
        "drive.mount('/content/drive')"
      ],
      "execution_count": 1,
      "outputs": [
        {
          "output_type": "stream",
          "text": [
            "Drive already mounted at /content/drive; to attempt to forcibly remount, call drive.mount(\"/content/drive\", force_remount=True).\n"
          ],
          "name": "stdout"
        }
      ]
    },
    {
      "cell_type": "code",
      "metadata": {
        "colab_type": "code",
        "id": "-D6-dKt9y9Jy",
        "outputId": "e1441221-8f84-4126-951f-199f361ae063",
        "colab": {
          "base_uri": "https://localhost:8080/",
          "height": 34
        }
      },
      "source": [
        "# use shorter filepaths for the data and models\n",
        "#MEDIA_PATH = '/content/drive/My Drive/virufy/confidential data/media all - old'\n",
        "MODELS_PATH = '/content/drive/My Drive/virufy/models/'\n",
        "#media_path = '/content/media'\n",
        "models_path = '/content/models'\n",
        "\n",
        "!rm -rf \"$media_folder\" \"$models_path\"\n",
        "#!ln -sf \"$MEDIA_PATH\" \"$media_path\"\n",
        "!ln -sf \"$MODELS_PATH\" \"$models_path\""
      ],
      "execution_count": 2,
      "outputs": [
        {
          "output_type": "stream",
          "text": [
            "ln: failed to create symbolic link '/content/models/models': Operation not supported\n"
          ],
          "name": "stdout"
        }
      ]
    },
    {
      "cell_type": "code",
      "metadata": {
        "colab_type": "code",
        "id": "eUwQXW7vWCUK",
        "colab": {}
      },
      "source": [
        "! wget --quiet https://raw.githubusercontent.com/virufy/covid/master/text/text_data.csv\n",
        "! wget --quiet https://raw.githubusercontent.com/virufy/covid/master/text/text.py"
      ],
      "execution_count": 0,
      "outputs": []
    },
    {
      "cell_type": "code",
      "metadata": {
        "id": "E51wkxIZVekD",
        "colab_type": "code",
        "colab": {
          "base_uri": "https://localhost:8080/",
          "height": 289
        },
        "outputId": "b409d380-a6b8-45e5-8d8a-052eebf998fa"
      },
      "source": [
        "import text\n",
        "text_pred = text.predict('/content/text_data.csv', '/content/models/0502-text-80.sav')\n",
        "print(\"The probability of patient being positive is: \", text_pred)\n",
        "\n",
        "# all of below functions will return (m,1)\n",
        "#sample.predict(data, models_path + 'sample.h5')\n",
        "#cough_ml_pred = cough_ml.predict(df, models_path + \"cough_ml.h5\")  # (m,?), remove softmax => (m,10)"
      ],
      "execution_count": 8,
      "outputs": [
        {
          "output_type": "stream",
          "text": [
            "/usr/local/lib/python3.6/dist-packages/sklearn/base.py:318: UserWarning: Trying to unpickle estimator SVC from version 0.22.1 when using version 0.22.2.post1. This might lead to breaking code or invalid results. Use at your own risk.\n",
            "  UserWarning)\n"
          ],
          "name": "stderr"
        },
        {
          "output_type": "error",
          "ename": "TypeError",
          "evalue": "ignored",
          "traceback": [
            "\u001b[0;31m---------------------------------------------------------------------------\u001b[0m",
            "\u001b[0;31mTypeError\u001b[0m                                 Traceback (most recent call last)",
            "\u001b[0;32m<ipython-input-8-bb643560141d>\u001b[0m in \u001b[0;36m<module>\u001b[0;34m()\u001b[0m\n\u001b[1;32m      1\u001b[0m \u001b[0;32mimport\u001b[0m \u001b[0mtext\u001b[0m\u001b[0;34m\u001b[0m\u001b[0;34m\u001b[0m\u001b[0m\n\u001b[1;32m      2\u001b[0m \u001b[0mtext_pred\u001b[0m \u001b[0;34m=\u001b[0m \u001b[0mtext\u001b[0m\u001b[0;34m.\u001b[0m\u001b[0mpredict\u001b[0m\u001b[0;34m(\u001b[0m\u001b[0;34m'/content/text_data.csv'\u001b[0m\u001b[0;34m,\u001b[0m \u001b[0;34m'/content/models/0502-text-80.sav'\u001b[0m\u001b[0;34m)\u001b[0m\u001b[0;34m\u001b[0m\u001b[0;34m\u001b[0m\u001b[0m\n\u001b[0;32m----> 3\u001b[0;31m \u001b[0mprint\u001b[0m\u001b[0;34m(\u001b[0m\u001b[0;34m\"The probability of patient being positive is: %2f\"\u001b[0m \u001b[0;34m%\u001b[0m \u001b[0mtext_pred\u001b[0m\u001b[0;34m)\u001b[0m\u001b[0;34m\u001b[0m\u001b[0;34m\u001b[0m\u001b[0m\n\u001b[0m\u001b[1;32m      4\u001b[0m \u001b[0;34m\u001b[0m\u001b[0m\n\u001b[1;32m      5\u001b[0m \u001b[0;31m# all of below functions will return (m,1)\u001b[0m\u001b[0;34m\u001b[0m\u001b[0;34m\u001b[0m\u001b[0;34m\u001b[0m\u001b[0m\n",
            "\u001b[0;31mTypeError\u001b[0m: only size-1 arrays can be converted to Python scalars"
          ]
        }
      ]
    },
    {
      "cell_type": "code",
      "metadata": {
        "colab_type": "code",
        "id": "3lbkD1fDy9J9",
        "colab": {}
      },
      "source": [
        "# combine all predictions into (m,?)\n",
        "# X = np.concatenate(df, cough_ml_pred, text_pred)\n",
        "# y = df['corona_test']\n",
        "\n",
        "# let's try manual feature engineering here\n",
        "\n",
        "# output probability"
      ],
      "execution_count": 0,
      "outputs": []
    }
  ]
}